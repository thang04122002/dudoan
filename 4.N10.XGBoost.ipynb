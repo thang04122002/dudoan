{
 "cells": [
  {
   "cell_type": "markdown",
   "id": "2666fc4e-c128-45a0-aa6f-f05cdb26455f",
   "metadata": {},
   "source": [
    "# Model"
   ]
  },
  {
   "cell_type": "markdown",
   "id": "72184574-acc0-4fb3-a6be-ac3cc9ac8b8d",
   "metadata": {},
   "source": [
    "# Import thư viện"
   ]
  },
  {
   "cell_type": "code",
   "execution_count": 26,
   "id": "af3a70e3-9c04-4325-97d6-d823ba6b9a95",
   "metadata": {},
   "outputs": [
    {
     "data": {
      "text/html": [
       "<div>\n",
       "<style scoped>\n",
       "    .dataframe tbody tr th:only-of-type {\n",
       "        vertical-align: middle;\n",
       "    }\n",
       "\n",
       "    .dataframe tbody tr th {\n",
       "        vertical-align: top;\n",
       "    }\n",
       "\n",
       "    .dataframe thead th {\n",
       "        text-align: right;\n",
       "    }\n",
       "</style>\n",
       "<table border=\"1\" class=\"dataframe\">\n",
       "  <thead>\n",
       "    <tr style=\"text-align: right;\">\n",
       "      <th></th>\n",
       "      <th>Age</th>\n",
       "      <th>Seat comfort</th>\n",
       "      <th>Food and drink</th>\n",
       "      <th>Inflight wifi service</th>\n",
       "      <th>Inflight entertainment</th>\n",
       "      <th>Online support</th>\n",
       "      <th>Ease of Online booking</th>\n",
       "      <th>On-board service</th>\n",
       "      <th>Leg room service</th>\n",
       "      <th>Baggage handling</th>\n",
       "      <th>Checkin service</th>\n",
       "      <th>Cleanliness</th>\n",
       "      <th>Online boarding</th>\n",
       "      <th>satisfaction</th>\n",
       "      <th>Gender</th>\n",
       "      <th>Customer Type</th>\n",
       "      <th>Type of Travel</th>\n",
       "      <th>Class</th>\n",
       "    </tr>\n",
       "  </thead>\n",
       "  <tbody>\n",
       "    <tr>\n",
       "      <th>0</th>\n",
       "      <td>65</td>\n",
       "      <td>0</td>\n",
       "      <td>0</td>\n",
       "      <td>2</td>\n",
       "      <td>4</td>\n",
       "      <td>2</td>\n",
       "      <td>3</td>\n",
       "      <td>3</td>\n",
       "      <td>0</td>\n",
       "      <td>3</td>\n",
       "      <td>5</td>\n",
       "      <td>3</td>\n",
       "      <td>2</td>\n",
       "      <td>1</td>\n",
       "      <td>0</td>\n",
       "      <td>0</td>\n",
       "      <td>1</td>\n",
       "      <td>1</td>\n",
       "    </tr>\n",
       "    <tr>\n",
       "      <th>1</th>\n",
       "      <td>15</td>\n",
       "      <td>0</td>\n",
       "      <td>0</td>\n",
       "      <td>2</td>\n",
       "      <td>0</td>\n",
       "      <td>2</td>\n",
       "      <td>2</td>\n",
       "      <td>3</td>\n",
       "      <td>3</td>\n",
       "      <td>4</td>\n",
       "      <td>4</td>\n",
       "      <td>4</td>\n",
       "      <td>2</td>\n",
       "      <td>1</td>\n",
       "      <td>0</td>\n",
       "      <td>0</td>\n",
       "      <td>1</td>\n",
       "      <td>1</td>\n",
       "    </tr>\n",
       "    <tr>\n",
       "      <th>2</th>\n",
       "      <td>60</td>\n",
       "      <td>0</td>\n",
       "      <td>0</td>\n",
       "      <td>3</td>\n",
       "      <td>4</td>\n",
       "      <td>3</td>\n",
       "      <td>1</td>\n",
       "      <td>1</td>\n",
       "      <td>0</td>\n",
       "      <td>1</td>\n",
       "      <td>4</td>\n",
       "      <td>1</td>\n",
       "      <td>3</td>\n",
       "      <td>1</td>\n",
       "      <td>0</td>\n",
       "      <td>0</td>\n",
       "      <td>1</td>\n",
       "      <td>1</td>\n",
       "    </tr>\n",
       "    <tr>\n",
       "      <th>3</th>\n",
       "      <td>70</td>\n",
       "      <td>0</td>\n",
       "      <td>0</td>\n",
       "      <td>4</td>\n",
       "      <td>3</td>\n",
       "      <td>4</td>\n",
       "      <td>2</td>\n",
       "      <td>2</td>\n",
       "      <td>0</td>\n",
       "      <td>2</td>\n",
       "      <td>4</td>\n",
       "      <td>2</td>\n",
       "      <td>5</td>\n",
       "      <td>1</td>\n",
       "      <td>0</td>\n",
       "      <td>0</td>\n",
       "      <td>1</td>\n",
       "      <td>1</td>\n",
       "    </tr>\n",
       "    <tr>\n",
       "      <th>4</th>\n",
       "      <td>30</td>\n",
       "      <td>0</td>\n",
       "      <td>0</td>\n",
       "      <td>2</td>\n",
       "      <td>0</td>\n",
       "      <td>2</td>\n",
       "      <td>2</td>\n",
       "      <td>5</td>\n",
       "      <td>4</td>\n",
       "      <td>5</td>\n",
       "      <td>5</td>\n",
       "      <td>4</td>\n",
       "      <td>2</td>\n",
       "      <td>1</td>\n",
       "      <td>1</td>\n",
       "      <td>0</td>\n",
       "      <td>1</td>\n",
       "      <td>1</td>\n",
       "    </tr>\n",
       "  </tbody>\n",
       "</table>\n",
       "</div>"
      ],
      "text/plain": [
       "   Age  Seat comfort  Food and drink  Inflight wifi service  \\\n",
       "0   65             0               0                      2   \n",
       "1   15             0               0                      2   \n",
       "2   60             0               0                      3   \n",
       "3   70             0               0                      4   \n",
       "4   30             0               0                      2   \n",
       "\n",
       "   Inflight entertainment  Online support  Ease of Online booking  \\\n",
       "0                       4               2                       3   \n",
       "1                       0               2                       2   \n",
       "2                       4               3                       1   \n",
       "3                       3               4                       2   \n",
       "4                       0               2                       2   \n",
       "\n",
       "   On-board service  Leg room service  Baggage handling  Checkin service  \\\n",
       "0                 3                 0                 3                5   \n",
       "1                 3                 3                 4                4   \n",
       "2                 1                 0                 1                4   \n",
       "3                 2                 0                 2                4   \n",
       "4                 5                 4                 5                5   \n",
       "\n",
       "   Cleanliness  Online boarding  satisfaction  Gender  Customer Type  \\\n",
       "0            3                2             1       0              0   \n",
       "1            4                2             1       0              0   \n",
       "2            1                3             1       0              0   \n",
       "3            2                5             1       0              0   \n",
       "4            4                2             1       1              0   \n",
       "\n",
       "   Type of Travel  Class  \n",
       "0               1      1  \n",
       "1               1      1  \n",
       "2               1      1  \n",
       "3               1      1  \n",
       "4               1      1  "
      ]
     },
     "execution_count": 26,
     "metadata": {},
     "output_type": "execute_result"
    }
   ],
   "source": [
    "from sklearn.model_selection import train_test_split\n",
    "from xgboost import XGBClassifier\n",
    "from sklearn.metrics import accuracy_score, classification_report, confusion_matrix\n",
    "from sklearn.model_selection import GridSearchCV\n",
    "import numpy as np\n",
    "import pandas as pd\n",
    "df = pd.read_csv('Invistico-Airline.csv')\n",
    "df.head()"
   ]
  },
  {
   "cell_type": "markdown",
   "id": "d61881fb-f427-49bb-87a0-29eadde4068f",
   "metadata": {},
   "source": [
    "# Chia dữ liệu"
   ]
  },
  {
   "cell_type": "code",
   "execution_count": 29,
   "id": "db1b01a5-a237-4bd0-971b-c30061798d08",
   "metadata": {},
   "outputs": [],
   "source": [
    "# Chia dữ liệu thành features (X) và target (y)\n",
    "X = df.drop(['satisfaction'], axis=1)\n",
    "y = df['satisfaction']\n",
    "# Chia bộ dữ liệu\n",
    "X_train, X_test, y_train, y_test = train_test_split(X, y, test_size=0.2, random_state =42 )"
   ]
  },
  {
   "cell_type": "code",
   "execution_count": 31,
   "id": "3142be87-fe7e-489d-8ef5-2cc208174c66",
   "metadata": {},
   "outputs": [
    {
     "name": "stdout",
     "output_type": "stream",
     "text": [
      "<class 'pandas.core.frame.DataFrame'>\n",
      "RangeIndex: 125772 entries, 0 to 125771\n",
      "Data columns (total 18 columns):\n",
      " #   Column                  Non-Null Count   Dtype\n",
      "---  ------                  --------------   -----\n",
      " 0   Age                     125772 non-null  int64\n",
      " 1   Seat comfort            125772 non-null  int64\n",
      " 2   Food and drink          125772 non-null  int64\n",
      " 3   Inflight wifi service   125772 non-null  int64\n",
      " 4   Inflight entertainment  125772 non-null  int64\n",
      " 5   Online support          125772 non-null  int64\n",
      " 6   Ease of Online booking  125772 non-null  int64\n",
      " 7   On-board service        125772 non-null  int64\n",
      " 8   Leg room service        125772 non-null  int64\n",
      " 9   Baggage handling        125772 non-null  int64\n",
      " 10  Checkin service         125772 non-null  int64\n",
      " 11  Cleanliness             125772 non-null  int64\n",
      " 12  Online boarding         125772 non-null  int64\n",
      " 13  satisfaction            125772 non-null  int64\n",
      " 14  Gender                  125772 non-null  int64\n",
      " 15  Customer Type           125772 non-null  int64\n",
      " 16  Type of Travel          125772 non-null  int64\n",
      " 17  Class                   125772 non-null  int64\n",
      "dtypes: int64(18)\n",
      "memory usage: 17.3 MB\n"
     ]
    }
   ],
   "source": [
    "df.info()"
   ]
  },
  {
   "cell_type": "markdown",
   "id": "9ad21c50-f89b-4527-a532-03b4ee7d4df6",
   "metadata": {},
   "source": [
    "# Sử dụng GridSearchCV để tìm kiếm tham số tốt nhất cho mô hình XGBoost"
   ]
  },
  {
   "cell_type": "code",
   "execution_count": 47,
   "id": "c5b976e4-0983-443e-9aee-a4113ab294aa",
   "metadata": {},
   "outputs": [
    {
     "name": "stdout",
     "output_type": "stream",
     "text": [
      "Best parameters found:  {'colsample_bytree': 0.8, 'learning_rate': 0.1, 'max_depth': 9, 'n_estimators': 200, 'subsample': 1.0}\n"
     ]
    }
   ],
   "source": [
    "# Xây dựng mô hình XGBoost\n",
    "param_grid = {\n",
    "    'n_estimators': [100, 200, 300],\n",
    "    'learning_rate': [0.01, 0.1, 0.2],\n",
    "    'max_depth': [ 5, 7, 9],\n",
    "    'subsample': [ 0.8, 0.9, 1.0 ],\n",
    "    'colsample_bytree': [ 0.8,0.9,1.0]\n",
    "}\n",
    "\n",
    "# Khởi tạo mô hình GridSearchCV để tìm kiếm tham số tốt nhất\n",
    "grid_search = GridSearchCV(XGBClassifier(), param_grid, cv=5, scoring='accuracy')\n",
    "\n",
    "# Huấn luyện mô hình GridSearchCV\n",
    "grid_search.fit(X_train, y_train)\n",
    "\n",
    "# In ra các tham số tốt nhất\n",
    "print(\"Best parameters found: \", grid_search.best_params_)\n",
    "\n",
    "# Sử dụng mô hình với các tham số tốt nhất\n",
    "xgboost_model = grid_search.best_estimator_\n",
    "\n",
    "# Dự đoán trên tập kiểm tra\n",
    "y_pred = xgboost_model.predict(X_test)"
   ]
  },
  {
   "cell_type": "code",
   "execution_count": 48,
   "id": "56871502-9e85-4a11-bcd9-c8583e0d94d2",
   "metadata": {},
   "outputs": [
    {
     "name": "stdout",
     "output_type": "stream",
     "text": [
      "Accuracy: 0.9574239713774597\n",
      "MÔ HÌNH XGBoost\":\n",
      "Accuracy: 95.74\n",
      "\n",
      "Classification Report:\n",
      "              precision    recall  f1-score   support\n",
      "\n",
      "           0       0.94      0.96      0.95     11262\n",
      "           1       0.97      0.95      0.96     13893\n",
      "\n",
      "    accuracy                           0.96     25155\n",
      "   macro avg       0.96      0.96      0.96     25155\n",
      "weighted avg       0.96      0.96      0.96     25155\n",
      "\n",
      "\n",
      "Confusion Matrix:\n",
      "[[10837   425]\n",
      " [  646 13247]]\n"
     ]
    }
   ],
   "source": [
    "# Đánh giá mô hình\n",
    "accuracy = accuracy_score(y_test, y_pred)\n",
    "print(f'Accuracy: {accuracy}')\n",
    "# Dự đoán trên tập test\n",
    "y_pred = xgboost_model.predict(X_test)\n",
    "# Đánh giá hiệu suất của mô hình\n",
    "print('MÔ HÌNH XGBoost\":')\n",
    "accuracy = accuracy_score(y_test, y_pred)\n",
    "print(f'Accuracy: {accuracy*100:.2f}')\n",
    "\n",
    "# In ra confusion matrix và báo cáo classification\n",
    "print('\\nClassification Report:')\n",
    "print(classification_report(y_test, y_pred))\n",
    "print('\\nConfusion Matrix:')\n",
    "print(confusion_matrix(y_test, y_pred))"
   ]
  },
  {
   "cell_type": "code",
   "execution_count": 49,
   "id": "44e25d3c-2fb1-499b-b65c-d0aeea58c808",
   "metadata": {},
   "outputs": [
    {
     "data": {
      "image/png": "[encoded data removed]",
      "text/plain": [
       "<Figure size 400x300 with 1 Axes>"
      ]
     },
     "metadata": {},
     "output_type": "display_data"
    }
   ],
   "source": [
    "from sklearn.metrics import roc_curve, auc\n",
    "import matplotlib.pyplot as plt\n",
    "X_test = X_test.astype(int)\n",
    "# Dự đoán xác suất và tính toán ROC\n",
    "y_scores = xgboost_model.predict_proba(X_test)[:, 1]  # Lấy xác suất của lớp positive\n",
    "fpr, tpr, thresholds = roc_curve(y_test, y_scores)\n",
    "roc_auc = auc(fpr, tpr)\n",
    "\n",
    "# Vẽ đồ thị ROC\n",
    "plt.figure(figsize=(4, 3))\n",
    "plt.plot(fpr, tpr, color='darkorange', lw=2, label='ROC curve (area = %0.2f)' % roc_auc)\n",
    "plt.plot([0, 1], [0, 1], color='navy', lw=2, linestyle='--')\n",
    "plt.xlim([0.0, 1.0])\n",
    "plt.ylim([0.0, 1.05])\n",
    "plt.xlabel('False Positive Rate')\n",
    "plt.ylabel('True Positive Rate')\n",
    "plt.title('Receiver Operating Characteristic (ROC)')\n",
    "plt.legend(loc=\"lower right\")\n",
    "plt.show()"
   ]
  },
  {
   "cell_type": "markdown",
   "id": "5d97d74e-cd76-43ce-bb30-1b18d2b46444",
   "metadata": {},
   "source": [
    "# Lưu mô hình"
   ]
  },
  {
   "cell_type": "code",
   "execution_count": 60,
   "id": "bda2a692-564f-4485-9b9b-87ccc6f544b0",
   "metadata": {},
   "outputs": [
    {
     "data": {
      "text/plain": [
       "['xgbn10_model.pkl']"
      ]
     },
     "execution_count": 60,
     "metadata": {},
     "output_type": "execute_result"
    }
   ],
   "source": [
    "import joblib\n",
    "joblib.dump(xgboost_model, 'xgbn10_model.pkl')"
   ]
  }
 ],
 "metadata": {
  "kernelspec": {
   "display_name": "Python 3 (ipykernel)",
   "language": "python",
   "name": "python3"
  },
  "language_info": {
   "codemirror_mode": {
    "name": "ipython",
    "version": 3
   },
   "file_extension": ".py",
   "mimetype": "text/x-python",
   "name": "python",
   "nbconvert_exporter": "python",
   "pygments_lexer": "ipython3",
   "version": "3.12.4"
  }
 },
 "nbformat": 4,
 "nbformat_minor": 5
}
